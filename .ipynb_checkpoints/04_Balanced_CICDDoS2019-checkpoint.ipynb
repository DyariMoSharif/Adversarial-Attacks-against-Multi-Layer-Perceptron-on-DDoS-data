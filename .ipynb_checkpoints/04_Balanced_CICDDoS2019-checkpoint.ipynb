{
 "cells": [
  {
   "cell_type": "markdown",
   "id": "eea8eeb8-dd06-4310-96a9-9c5e79685fbd",
   "metadata": {},
   "source": [
    "### Loading dataset from CICDDoS2019 and balancing it. Plus, Scaling data points and splitting data"
   ]
  },
  {
   "cell_type": "code",
   "execution_count": 28,
   "id": "04b98d0c-1a9b-4a28-a466-6bba1f0b3701",
   "metadata": {
    "editable": true,
    "slideshow": {
     "slide_type": ""
    },
    "tags": []
   },
   "outputs": [
    {
     "name": "stderr",
     "output_type": "stream",
     "text": [
      "C:\\Users\\dyari\\AppData\\Local\\Temp\\ipykernel_17472\\2799009208.py:8: DtypeWarning: Columns (85) have mixed types. Specify dtype option on import or set low_memory=False.\n",
      "  df = pd.read_csv(\"CICDDoS2019_Syn.csv\")\n",
      "C:\\Users\\dyari\\AppData\\Local\\Temp\\ipykernel_17472\\2799009208.py:30: FutureWarning: A value is trying to be set on a copy of a DataFrame or Series through chained assignment using an inplace method.\n",
      "The behavior will change in pandas 3.0. This inplace method will never work because the intermediate object on which we are setting values always behaves as a copy.\n",
      "\n",
      "For example, when doing 'df[col].method(value, inplace=True)', try using 'df.method({col: value}, inplace=True)' or df[col] = df[col].method(value) instead, to perform the operation inplace on the original object.\n",
      "\n",
      "\n",
      "  df[\"Label\"].replace([\"BENIGN\",\"Syn\"],[0,1],inplace=True)\n",
      "C:\\Users\\dyari\\AppData\\Local\\Temp\\ipykernel_17472\\2799009208.py:30: FutureWarning: Downcasting behavior in `replace` is deprecated and will be removed in a future version. To retain the old behavior, explicitly call `result.infer_objects(copy=False)`. To opt-in to the future behavior, set `pd.set_option('future.no_silent_downcasting', True)`\n",
      "  df[\"Label\"].replace([\"BENIGN\",\"Syn\"],[0,1],inplace=True)\n"
     ]
    }
   ],
   "source": [
    "import pandas as pd\n",
    "import numpy as np\n",
    "from sklearn.preprocessing import MinMaxScaler\n",
    "from sklearn.model_selection import train_test_split\n",
    "import matplotlib.pyplot as plt\n",
    "from imblearn.under_sampling import RandomUnderSampler\n",
    "\n",
    "df = pd.read_csv(\"CICDDoS2019_Syn.csv\")\n",
    "df.columns=df.columns.str.strip()\n",
    "\n",
    "#using the selected features\n",
    "selectedFeatures=['Destination Port', 'Total Length of Bwd Packets','Bwd Packet Length Std', 'Flow IAT Mean', 'Bwd Packets/s','Packet Length Mean', 'Label']\n",
    "df=df[selectedFeatures]\n",
    "\n",
    "# Create a RandomUnderSampler object\n",
    "under_sampler = RandomUnderSampler(sampling_strategy={'Syn': 35790}, random_state=42)\n",
    "\n",
    "# Split the features (X) and the target (y)\n",
    "X = df.drop('Label', axis=1)  # Replace with your actual feature columns\n",
    "y = df['Label']\n",
    "\n",
    "# Perform undersampling\n",
    "X_resampled, y_resampled = under_sampler.fit_resample(X, y)\n",
    "\n",
    "# Combine the resampled features and labels back into a DataFrame\n",
    "df = pd.DataFrame(X_resampled, columns=X.columns)\n",
    "df['Label'] = y_resampled\n",
    "# Now df_resampled contains a balanced dataset\n",
    "\n",
    "df[\"Label\"].replace([\"BENIGN\",\"Syn\"],[0,1],inplace=True)\n",
    "\n",
    "X = MinMaxScaler().fit_transform(df.drop(['Label'],axis=1))\n",
    "y=df[\"Label\"]\n",
    "\n",
    "X_train,X_test,y_train,y_test = train_test_split(X,y,test_size = 0.2,random_state=42,stratify=y)"
   ]
  },
  {
   "cell_type": "markdown",
   "id": "9d3c1d35-7443-4b3a-b1f3-5412a74d555e",
   "metadata": {},
   "source": [
    "### Training the MLP model"
   ]
  },
  {
   "cell_type": "code",
   "execution_count": 30,
   "id": "3bf2f670-ed1c-4160-93ab-1b333b789e4f",
   "metadata": {
    "scrolled": true
   },
   "outputs": [
    {
     "name": "stdout",
     "output_type": "stream",
     "text": [
      "Iteration 1, loss = 0.26064150\n",
      "Iteration 2, loss = 0.22385367\n",
      "Iteration 3, loss = 0.21848758\n",
      "Iteration 4, loss = 0.21679699\n",
      "Iteration 5, loss = 0.21161189\n",
      "Iteration 6, loss = 0.20856556\n",
      "Iteration 7, loss = 0.21628192\n",
      "Iteration 8, loss = 0.21178082\n",
      "Iteration 9, loss = 0.20559408\n",
      "Iteration 10, loss = 0.20512327\n",
      "Iteration 11, loss = 0.19386685\n",
      "Iteration 12, loss = 0.21235755\n",
      "Iteration 13, loss = 0.21117740\n",
      "Iteration 14, loss = 0.20110180\n",
      "Iteration 15, loss = 0.19154646\n",
      "Iteration 16, loss = 0.16130957\n",
      "Iteration 17, loss = 0.13017890\n",
      "Iteration 18, loss = 0.12782189\n",
      "Iteration 19, loss = 0.12769762\n",
      "Iteration 20, loss = 0.12569670\n",
      "Iteration 21, loss = 0.12631286\n",
      "Iteration 22, loss = 0.12109771\n",
      "Iteration 23, loss = 0.12347112\n",
      "Iteration 24, loss = 0.11991080\n",
      "Iteration 25, loss = 0.13010807\n",
      "Iteration 26, loss = 0.12113639\n",
      "Iteration 27, loss = 0.12255642\n",
      "Iteration 28, loss = 0.12149562\n",
      "Iteration 29, loss = 0.12430125\n",
      "Iteration 30, loss = 0.12161071\n",
      "Iteration 31, loss = 0.11963022\n",
      "Iteration 32, loss = 0.11992116\n",
      "Iteration 33, loss = 0.11987840\n",
      "Iteration 34, loss = 0.11640348\n",
      "Iteration 35, loss = 0.11500064\n",
      "Iteration 36, loss = 0.11693784\n",
      "Iteration 37, loss = 0.11391456\n",
      "Iteration 38, loss = 0.11478000\n",
      "Iteration 39, loss = 0.11303198\n",
      "Iteration 40, loss = 0.10959265\n",
      "Iteration 41, loss = 0.10895963\n",
      "Iteration 42, loss = 0.10945917\n",
      "Iteration 43, loss = 0.10541639\n",
      "Iteration 44, loss = 0.10829227\n",
      "Iteration 45, loss = 0.10881124\n",
      "Iteration 46, loss = 0.10734721\n",
      "Iteration 47, loss = 0.10676944\n",
      "Iteration 48, loss = 0.10994568\n",
      "Iteration 49, loss = 0.10658251\n",
      "Iteration 50, loss = 0.10733516\n",
      "Iteration 51, loss = 0.10522931\n",
      "Iteration 52, loss = 0.10937945\n",
      "Iteration 53, loss = 0.10747021\n",
      "Iteration 54, loss = 0.10564207\n",
      "Iteration 55, loss = 0.10749545\n",
      "Iteration 56, loss = 0.10618765\n",
      "Iteration 57, loss = 0.10869462\n",
      "Iteration 58, loss = 0.10393072\n",
      "Iteration 59, loss = 0.10515416\n",
      "Iteration 60, loss = 0.10551771\n",
      "Iteration 61, loss = 0.10469922\n",
      "Iteration 62, loss = 0.10721569\n",
      "Iteration 63, loss = 0.10685703\n",
      "Iteration 64, loss = 0.10663880\n",
      "Iteration 65, loss = 0.10752494\n",
      "Iteration 66, loss = 0.10463959\n",
      "Iteration 67, loss = 0.10538841\n",
      "Iteration 68, loss = 0.10641685\n",
      "Iteration 69, loss = 0.10567679\n",
      "Training loss did not improve more than tol=0.000100 for 10 consecutive epochs. Stopping.\n"
     ]
    }
   ],
   "source": [
    "from sklearn.neural_network import MLPClassifier\n",
    "import time\n",
    "\n",
    "clf = MLPClassifier(hidden_layer_sizes=(100,200,250),\n",
    "                    max_iter=100,solver=\"adam\",\n",
    "                    verbose=True,activation='relu',\n",
    "                    learning_rate_init=0.01,random_state=42)\n",
    "\n",
    "start_time = time.time()\n",
    "# Fit data onto the model\n",
    "clf.fit(X_train,y_train)\n",
    "\n",
    "end_time = time.time()\n",
    "elapsed_time = end_time - start_time"
   ]
  },
  {
   "cell_type": "markdown",
   "id": "7ab14233-8b5e-40af-9961-7f07a39d2a2a",
   "metadata": {},
   "source": [
    "### Predictions BEFORE sample modification"
   ]
  },
  {
   "cell_type": "code",
   "execution_count": 32,
   "id": "416ef448-5f43-47c0-abcd-b4f9580435d4",
   "metadata": {},
   "outputs": [
    {
     "name": "stdout",
     "output_type": "stream",
     "text": [
      "Accuracy: 0.938041352333054\n",
      "---------------------------------------------------------\n"
     ]
    },
    {
     "data": {
      "text/plain": [
       "array([[6905,  253],\n",
       "       [ 634, 6524]], dtype=int64)"
      ]
     },
     "execution_count": 32,
     "metadata": {},
     "output_type": "execute_result"
    },
    {
     "data": {
      "image/png": "[encoded data removed]",
      "text/plain": [
       "<Figure size 640x480 with 2 Axes>"
      ]
     },
     "metadata": {},
     "output_type": "display_data"
    }
   ],
   "source": [
    "from sklearn.metrics import ConfusionMatrixDisplay\n",
    "from sklearn.metrics import confusion_matrix,accuracy_score,precision_score,f1_score,recall_score\n",
    "\n",
    "y_pred=clf.predict(X_test)\n",
    "\n",
    "print(\"Accuracy:\", accuracy_score(y_test,y_pred))\n",
    "print(\"---------------------------------------------------------\")\n",
    "\n",
    "BeforePerturbation = ConfusionMatrixDisplay.from_predictions(y_test,y_pred)\n",
    "BeforePerturbation.confusion_matrix"
   ]
  },
  {
   "cell_type": "markdown",
   "id": "4482f9c7-6931-4475-83ea-fdb523be6764",
   "metadata": {},
   "source": [
    "### Sample modification - Both Benign and Malicious Shuffle"
   ]
  },
  {
   "cell_type": "code",
   "execution_count": 34,
   "id": "11c5fc45-c2b1-40c7-a664-5b9ee9d9194e",
   "metadata": {},
   "outputs": [],
   "source": [
    "import random\n",
    "\n",
    "#Identify the unique 'Flow IAT Mean' values of all classes\n",
    "unique_values = df['Flow IAT Mean'].unique()\n",
    "\n",
    "random.seed(42)\n",
    "\n",
    "def SystematicShuffling(X, y, feature='Flow IAT Mean'):\n",
    "    # Ensure X and y are pandas DataFrames and Series\n",
    "    if isinstance(X, np.ndarray):\n",
    "        X = pd.DataFrame(X, columns=df.drop(columns=['Label']).columns)\n",
    "    if isinstance(y, np.ndarray):\n",
    "        y = pd.Series(y)\n",
    "\n",
    "    X_copy = X.copy()\n",
    "    y_copy = y.copy()\n",
    "\n",
    "    # Loop through the dataset\n",
    "    for idx in range(len(X)):\n",
    "        X_copy.loc[idx, feature] = random.choice(unique_values)\n",
    "\n",
    "    return X_copy, y_copy\n",
    "\n",
    "\n",
    "X_evasive3, y_evasive3 = SystematicShuffling(X_test, y_test, feature='Flow IAT Mean')"
   ]
  },
  {
   "cell_type": "markdown",
   "id": "91b35f56-8ff2-4d8d-be76-07d8b9e34075",
   "metadata": {},
   "source": [
    "### Predictions After sample modification - Both Benign and Malicious Shuffle"
   ]
  },
  {
   "cell_type": "code",
   "execution_count": 36,
   "id": "623d7bc5-004d-4383-b716-5af6b6d4ad00",
   "metadata": {},
   "outputs": [
    {
     "name": "stderr",
     "output_type": "stream",
     "text": [
      "C:\\Users\\dyari\\anaconda3\\Lib\\site-packages\\sklearn\\base.py:486: UserWarning: X has feature names, but MLPClassifier was fitted without feature names\n",
      "  warnings.warn(\n"
     ]
    },
    {
     "name": "stdout",
     "output_type": "stream",
     "text": [
      "Accuracy: 0.5016764459346186\n",
      "---------------------------------------------------------\n"
     ]
    },
    {
     "data": {
      "text/plain": [
       "array([[7140,   18],\n",
       "       [7116,   42]], dtype=int64)"
      ]
     },
     "execution_count": 36,
     "metadata": {},
     "output_type": "execute_result"
    },
    {
     "data": {
      "image/png": "[encoded data removed]",
      "text/plain": [
       "<Figure size 640x480 with 2 Axes>"
      ]
     },
     "metadata": {},
     "output_type": "display_data"
    }
   ],
   "source": [
    "from sklearn.metrics import ConfusionMatrixDisplay\n",
    "from sklearn.metrics import confusion_matrix,accuracy_score,precision_score,f1_score,recall_score\n",
    "\n",
    "y_pred3_evasive = clf.predict(X_evasive3)\n",
    "\n",
    "print(\"Accuracy:\", accuracy_score(y_evasive3,y_pred3_evasive))\n",
    "print(\"---------------------------------------------------------\")\n",
    "\n",
    "\n",
    "Perturb03=ConfusionMatrixDisplay.from_predictions(y_evasive3, y_pred3_evasive)\n",
    "Perturb03.confusion_matrix"
   ]
  }
 ],
 "metadata": {
  "kernelspec": {
   "display_name": "Python 3 (ipykernel)",
   "language": "python",
   "name": "python3"
  },
  "language_info": {
   "codemirror_mode": {
    "name": "ipython",
    "version": 3
   },
   "file_extension": ".py",
   "mimetype": "text/x-python",
   "name": "python",
   "nbconvert_exporter": "python",
   "pygments_lexer": "ipython3",
   "version": "3.12.7"
  }
 },
 "nbformat": 4,
 "nbformat_minor": 5
}
